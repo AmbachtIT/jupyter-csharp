{
 "cells": [
  {
   "cell_type": "markdown",
   "metadata": {},
   "source": [
    "# Packages\n",
    "You can use the `#r` statement to import packages from nuget. It is possible to omit the package version but specifying a version prevents future breakage by package updates. If you change versions or if the package is updated when you haven't specified a version, you will need to restart the kernel."
   ]
  },
  {
   "cell_type": "code",
   "execution_count": null,
   "metadata": {
    "dotnet_interactive": {
     "language": "csharp"
    },
    "vscode": {
     "languageId": "dotnet-interactive.csharp"
    }
   },
   "outputs": [
    {
     "data": {
      "text/html": [
       "<div><div></div><div><strong>Installing Packages</strong><ul><li><span>CsvHelper</span></li><li><span>Plotly.NET</span></li><li><span>Plotly.NET.Interactive</span></li></ul></div><div></div></div>"
      ]
     },
     "metadata": {},
     "output_type": "display_data"
    }
   ],
   "source": [
    "#r \"nuget: Plotly.NET, 3.0.1\"\n",
    "#r \"nuget: Plotly.NET.Interactive, 3.0.1\"\n",
    "#r \"nuget: CsvHelper, 30.0.1\""
   ]
  },
  {
   "cell_type": "markdown",
   "metadata": {},
   "source": [
    "# Imports\n",
    "You can specify using statements just as you would in C#. A few common namespaces like `System` and `System.Text` are imported by default."
   ]
  },
  {
   "cell_type": "code",
   "execution_count": null,
   "metadata": {
    "dotnet_interactive": {
     "language": "csharp"
    },
    "vscode": {
     "languageId": "dotnet-interactive.csharp"
    }
   },
   "outputs": [],
   "source": [
    "using System.IO;\n",
    "using Plotly.NET;\n",
    "using CsvHelper;"
   ]
  },
  {
   "cell_type": "markdown",
   "metadata": {},
   "source": [
    "# Data\n",
    "Now you can use your favourite .NET tooling to get some data. In this example, we'll use `CsvHelper` to read a CSV file containing all FIFA world cup matches until 2018."
   ]
  },
  {
   "cell_type": "code",
   "execution_count": null,
   "metadata": {
    "dotnet_interactive": {
     "language": "csharp"
    },
    "vscode": {
     "languageId": "dotnet-interactive.csharp"
    }
   },
   "outputs": [
    {
     "ename": "Error",
     "evalue": "(11,43): error CS0103: The name 'CultureInfo' does not exist in the current context",
     "output_type": "error",
     "traceback": [
      "(11,43): error CS0103: The name 'CultureInfo' does not exist in the current context"
     ]
    }
   ],
   "source": [
    "using System.IO;\n",
    "using System.Globalization;\n",
    "using Plotly.NET;\n",
    "using CsvHelper;\n",
    "\n",
    "public class Match {\n",
    "    public int Year;\n",
    "}\n",
    "\n",
    "private List<Match> LoadData() {\n",
    "    using(var reader = new StreamReader(\"data/matches_1930_2018.csv\")) \n",
    "    using(var csv = new CsvReader(reader, CultureInfo.InvariantCulture))\n",
    "    {\n",
    "        return csv.GetRecords<Match>().ToList();\n",
    "    }\n",
    "}\n",
    "\n",
    "var data = LoadData();\n",
    "Console.WriteLine($\"Loaded {data.Count} matches\");\n"
   ]
  }
 ],
 "metadata": {
  "kernelspec": {
   "display_name": ".NET (C#)",
   "language": "C#",
   "name": ".net-csharp"
  },
  "language_info": {
   "file_extension": ".cs",
   "mimetype": "text/x-csharp",
   "name": "C#",
   "pygments_lexer": "csharp",
   "version": "9.0"
  },
  "orig_nbformat": 4
 },
 "nbformat": 4,
 "nbformat_minor": 2
}
